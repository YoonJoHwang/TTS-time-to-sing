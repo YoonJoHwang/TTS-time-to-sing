{
  "nbformat": 4,
  "nbformat_minor": 0,
  "metadata": {
    "colab": {
      "name": "BEGANSing.ipynb",
      "provenance": [],
      "collapsed_sections": [],
      "include_colab_link": true
    },
    "kernelspec": {
      "name": "python3",
      "display_name": "Python 3"
    },
    "language_info": {
      "name": "python"
    },
    "accelerator": "GPU"
  },
  "cells": [
    {
      "cell_type": "markdown",
      "metadata": {
        "id": "view-in-github",
        "colab_type": "text"
      },
      "source": [
        "<a href=\"https://colab.research.google.com/github/EndEkddl/BEGANSing/blob/inhye/BEGANSing.ipynb\" target=\"_parent\"><img src=\"https://colab.research.google.com/assets/colab-badge.svg\" alt=\"Open In Colab\"/></a>"
      ]
    },
    {
      "cell_type": "code",
      "metadata": {
        "id": "oofcY-HqGzbJ"
      },
      "source": [
        "!git clone -q https://github.com/HyunsuMoh/BEGANSing\n",
        "!mv BEGANSing/* ."
      ],
      "execution_count": 19,
      "outputs": []
    },
    {
      "cell_type": "code",
      "metadata": {
        "id": "TwUcSr2fFEIN"
      },
      "source": [
        "!rm -rf BEGANSing\n",
        "!rm -rf ./config\n",
        "!rm -rf ./g2p\n",
        "!rm -rf ./model\n",
        "!rm -rf ./utils\n",
        "!rm -rf ./sample_dataset"
      ],
      "execution_count": 18,
      "outputs": []
    },
    {
      "cell_type": "code",
      "metadata": {
        "id": "M9W4VNSrI-X1"
      },
      "source": [
        "# !wget https://zenodo.org/record/4916302/files/CSD.zip"
      ],
      "execution_count": null,
      "outputs": []
    },
    {
      "cell_type": "code",
      "metadata": {
        "id": "DRLk5U9FJs3n"
      },
      "source": [
        "# !unzip CSD.zip\n",
        "# !rm CSD.zip"
      ],
      "execution_count": null,
      "outputs": []
    },
    {
      "cell_type": "code",
      "metadata": {
        "id": "dgHKtx0fKcWl"
      },
      "source": [
        "!cp CSD/korean/wav/* sample_dataset/wav\n",
        "!cp CSD/korean/mid/* sample_dataset/mid\n",
        "!cp CSD/korean/lyric/* sample_dataset/txt"
      ],
      "execution_count": 20,
      "outputs": []
    },
    {
      "cell_type": "code",
      "metadata": {
        "id": "Dp4nZTzoNdmo"
      },
      "source": [
        "!ls CSD/korean/lyric > sample_dataset/valid_list.txt\n",
        "!sed 's/.txt//g' sample_dataset/valid_list.txt > sample_dataset/train_list.txt\n",
        "!cp sample_dataset/train_list.txt sample_dataset/valid_list.txt"
      ],
      "execution_count": 21,
      "outputs": []
    },
    {
      "cell_type": "code",
      "metadata": {
        "id": "uzdtlMG2NjbI"
      },
      "source": [
        "!cp config/default_train.yml config/my_train.yml"
      ],
      "execution_count": 22,
      "outputs": []
    },
    {
      "cell_type": "code",
      "metadata": {
        "colab": {
          "base_uri": "https://localhost:8080/"
        },
        "id": "WYWuSEcUJk5b",
        "outputId": "2a82a8e0-6b11-4f72-e06d-ff35b69a0be0"
      },
      "source": [
        "!pip install -r requirements.txt"
      ],
      "execution_count": 23,
      "outputs": [
        {
          "output_type": "stream",
          "name": "stdout",
          "text": [
            "Requirement already satisfied: mido in /usr/local/lib/python3.7/dist-packages (from -r requirements.txt (line 1)) (1.2.10)\n",
            "Requirement already satisfied: pyyaml in /usr/local/lib/python3.7/dist-packages (from -r requirements.txt (line 2)) (5.4.1)\n",
            "Requirement already satisfied: scipy in /usr/local/lib/python3.7/dist-packages (from -r requirements.txt (line 3)) (1.4.1)\n",
            "Requirement already satisfied: tensorboard in /usr/local/lib/python3.7/dist-packages (from -r requirements.txt (line 4)) (2.6.0)\n",
            "Requirement already satisfied: torchaudio in /usr/local/lib/python3.7/dist-packages (from -r requirements.txt (line 5)) (0.10.0)\n",
            "Requirement already satisfied: tqdm in /usr/local/lib/python3.7/dist-packages (from -r requirements.txt (line 6)) (4.62.3)\n",
            "Requirement already satisfied: numpy>=1.13.3 in /usr/local/lib/python3.7/dist-packages (from scipy->-r requirements.txt (line 3)) (1.19.5)\n",
            "Requirement already satisfied: protobuf>=3.6.0 in /usr/local/lib/python3.7/dist-packages (from tensorboard->-r requirements.txt (line 4)) (3.17.3)\n",
            "Requirement already satisfied: absl-py>=0.4 in /usr/local/lib/python3.7/dist-packages (from tensorboard->-r requirements.txt (line 4)) (0.12.0)\n",
            "Requirement already satisfied: tensorboard-plugin-wit>=1.6.0 in /usr/local/lib/python3.7/dist-packages (from tensorboard->-r requirements.txt (line 4)) (1.8.0)\n",
            "Requirement already satisfied: markdown>=2.6.8 in /usr/local/lib/python3.7/dist-packages (from tensorboard->-r requirements.txt (line 4)) (3.3.4)\n",
            "Requirement already satisfied: requests<3,>=2.21.0 in /usr/local/lib/python3.7/dist-packages (from tensorboard->-r requirements.txt (line 4)) (2.23.0)\n",
            "Requirement already satisfied: werkzeug>=0.11.15 in /usr/local/lib/python3.7/dist-packages (from tensorboard->-r requirements.txt (line 4)) (1.0.1)\n",
            "Requirement already satisfied: google-auth-oauthlib<0.5,>=0.4.1 in /usr/local/lib/python3.7/dist-packages (from tensorboard->-r requirements.txt (line 4)) (0.4.6)\n",
            "Requirement already satisfied: grpcio>=1.24.3 in /usr/local/lib/python3.7/dist-packages (from tensorboard->-r requirements.txt (line 4)) (1.41.0)\n",
            "Requirement already satisfied: tensorboard-data-server<0.7.0,>=0.6.0 in /usr/local/lib/python3.7/dist-packages (from tensorboard->-r requirements.txt (line 4)) (0.6.1)\n",
            "Requirement already satisfied: setuptools>=41.0.0 in /usr/local/lib/python3.7/dist-packages (from tensorboard->-r requirements.txt (line 4)) (57.4.0)\n",
            "Requirement already satisfied: wheel>=0.26 in /usr/local/lib/python3.7/dist-packages (from tensorboard->-r requirements.txt (line 4)) (0.37.0)\n",
            "Requirement already satisfied: google-auth<2,>=1.6.3 in /usr/local/lib/python3.7/dist-packages (from tensorboard->-r requirements.txt (line 4)) (1.35.0)\n",
            "Requirement already satisfied: six in /usr/local/lib/python3.7/dist-packages (from absl-py>=0.4->tensorboard->-r requirements.txt (line 4)) (1.15.0)\n",
            "Requirement already satisfied: pyasn1-modules>=0.2.1 in /usr/local/lib/python3.7/dist-packages (from google-auth<2,>=1.6.3->tensorboard->-r requirements.txt (line 4)) (0.2.8)\n",
            "Requirement already satisfied: cachetools<5.0,>=2.0.0 in /usr/local/lib/python3.7/dist-packages (from google-auth<2,>=1.6.3->tensorboard->-r requirements.txt (line 4)) (4.2.4)\n",
            "Requirement already satisfied: rsa<5,>=3.1.4 in /usr/local/lib/python3.7/dist-packages (from google-auth<2,>=1.6.3->tensorboard->-r requirements.txt (line 4)) (4.7.2)\n",
            "Requirement already satisfied: requests-oauthlib>=0.7.0 in /usr/local/lib/python3.7/dist-packages (from google-auth-oauthlib<0.5,>=0.4.1->tensorboard->-r requirements.txt (line 4)) (1.3.0)\n",
            "Requirement already satisfied: importlib-metadata in /usr/local/lib/python3.7/dist-packages (from markdown>=2.6.8->tensorboard->-r requirements.txt (line 4)) (4.8.1)\n",
            "Requirement already satisfied: pyasn1<0.5.0,>=0.4.6 in /usr/local/lib/python3.7/dist-packages (from pyasn1-modules>=0.2.1->google-auth<2,>=1.6.3->tensorboard->-r requirements.txt (line 4)) (0.4.8)\n",
            "Requirement already satisfied: idna<3,>=2.5 in /usr/local/lib/python3.7/dist-packages (from requests<3,>=2.21.0->tensorboard->-r requirements.txt (line 4)) (2.10)\n",
            "Requirement already satisfied: chardet<4,>=3.0.2 in /usr/local/lib/python3.7/dist-packages (from requests<3,>=2.21.0->tensorboard->-r requirements.txt (line 4)) (3.0.4)\n",
            "Requirement already satisfied: urllib3!=1.25.0,!=1.25.1,<1.26,>=1.21.1 in /usr/local/lib/python3.7/dist-packages (from requests<3,>=2.21.0->tensorboard->-r requirements.txt (line 4)) (1.24.3)\n",
            "Requirement already satisfied: certifi>=2017.4.17 in /usr/local/lib/python3.7/dist-packages (from requests<3,>=2.21.0->tensorboard->-r requirements.txt (line 4)) (2021.5.30)\n",
            "Requirement already satisfied: oauthlib>=3.0.0 in /usr/local/lib/python3.7/dist-packages (from requests-oauthlib>=0.7.0->google-auth-oauthlib<0.5,>=0.4.1->tensorboard->-r requirements.txt (line 4)) (3.1.1)\n",
            "Requirement already satisfied: torch==1.10.0 in /usr/local/lib/python3.7/dist-packages (from torchaudio->-r requirements.txt (line 5)) (1.10.0)\n",
            "Requirement already satisfied: typing-extensions in /usr/local/lib/python3.7/dist-packages (from torch==1.10.0->torchaudio->-r requirements.txt (line 5)) (3.7.4.3)\n",
            "Requirement already satisfied: zipp>=0.5 in /usr/local/lib/python3.7/dist-packages (from importlib-metadata->markdown>=2.6.8->tensorboard->-r requirements.txt (line 4)) (3.6.0)\n"
          ]
        }
      ]
    },
    {
      "cell_type": "code",
      "metadata": {
        "colab": {
          "base_uri": "https://localhost:8080/"
        },
        "id": "yJu7bvE05ooo",
        "outputId": "6dda746e-2b8c-4301-f02b-c4b1f787fab5"
      },
      "source": [
        "!pip install PyYAML==5.4.1"
      ],
      "execution_count": 24,
      "outputs": [
        {
          "output_type": "stream",
          "name": "stdout",
          "text": [
            "Requirement already satisfied: PyYAML==5.4.1 in /usr/local/lib/python3.7/dist-packages (5.4.1)\n"
          ]
        }
      ]
    },
    {
      "cell_type": "code",
      "metadata": {
        "colab": {
          "base_uri": "https://localhost:8080/"
        },
        "id": "dspHZPaqm9an",
        "outputId": "ee3e83bb-867d-43ca-f563-9c6a6bbbafe8"
      },
      "source": [
        "!python preprocess.py -c config/my_train.yml --use_cpu True"
      ],
      "execution_count": 30,
      "outputs": [
        {
          "output_type": "stream",
          "name": "stdout",
          "text": [
            "Configuration file: 'my_train.yml'\n",
            "'feature/default/train' is created.\n",
            "'feature/default/valid' is created.\n",
            "little_star\n",
            "kr041a\n",
            "kr041b\n",
            "Feature saved to 'feature/default'.\n"
          ]
        }
      ]
    },
    {
      "cell_type": "code",
      "metadata": {
        "id": "ThT5E3sLJBFW"
      },
      "source": [
        "!rm -rf feature/default/valid\n"
      ],
      "execution_count": 29,
      "outputs": []
    },
    {
      "cell_type": "code",
      "metadata": {
        "colab": {
          "base_uri": "https://localhost:8080/"
        },
        "id": "QhkfdZJvnbnk",
        "outputId": "bedb7ff4-6e3c-40ce-b2ac-8d2efe3eef90"
      },
      "source": [
        "!python train.py -c config/my_train.yml --device 0 --batch_size 16"
      ],
      "execution_count": null,
      "outputs": [
        {
          "output_type": "stream",
          "name": "stdout",
          "text": [
            "Configuration file: 'my_train.yml'\n",
            "'checkpoint/default_1' is created.\n",
            "Training start\n",
            "[Epoch 0/500] [loss G train: 1.14157] [loss G valid: 0.41411] [loss D train: 0.21743] [lr: 0.000100]\n",
            "[Epoch 1/500] [loss G train: 1.00349] [loss G valid: 0.45729] [loss D train: 0.21700] [lr: 0.000100]\n",
            "[Epoch 2/500] [loss G train: 0.90130] [loss G valid: 0.49978] [loss D train: 0.19355] [lr: 0.000100]\n",
            "[Epoch 3/500] [loss G train: 0.85479] [loss G valid: 0.52350] [loss D train: 0.15776] [lr: 0.000100]\n",
            "[Epoch 4/500] [loss G train: 0.80025] [loss G valid: 0.53399] [loss D train: 0.15074] [lr: 0.000100]\n",
            "[Epoch 5/500] [loss G train: 0.75542] [loss G valid: 0.52697] [loss D train: 0.15011] [lr: 0.000100]\n",
            "[Epoch 6/500] [loss G train: 0.71153] [loss G valid: 0.52438] [loss D train: 0.14438] [lr: 0.000100]\n",
            "[Epoch 7/500] [loss G train: 0.66279] [loss G valid: 0.59061] [loss D train: 0.13927] [lr: 0.000100]\n",
            "[Epoch 8/500] [loss G train: 0.61383] [loss G valid: 0.58740] [loss D train: 0.15205] [lr: 0.000100]\n",
            "[Epoch 9/500] [loss G train: 0.56232] [loss G valid: 0.52642] [loss D train: 0.13524] [lr: 0.000100]\n",
            "[Epoch 10/500] [loss G train: 0.53805] [loss G valid: 0.50446] [loss D train: 0.13302] [lr: 0.000100]\n",
            "[Epoch 11/500] [loss G train: 0.51894] [loss G valid: 0.54382] [loss D train: 0.13112] [lr: 0.000100]\n",
            "[Epoch 12/500] [loss G train: 0.52575] [loss G valid: 0.47104] [loss D train: 0.15406] [lr: 0.000100]\n",
            "[Epoch 13/500] [loss G train: 0.48901] [loss G valid: 0.45333] [loss D train: 0.12954] [lr: 0.000100]\n",
            "[Epoch 14/500] [loss G train: 0.49159] [loss G valid: 0.44948] [loss D train: 0.12858] [lr: 0.000100]\n",
            "[Epoch 15/500] [loss G train: 0.47886] [loss G valid: 0.57832] [loss D train: 0.12811] [lr: 0.000100]\n",
            " 60% 3/5 [00:09<00:06,  3.19s/it]"
          ]
        }
      ]
    },
    {
      "cell_type": "code",
      "metadata": {
        "colab": {
          "base_uri": "https://localhost:8080/"
        },
        "id": "qq0knq7EWMyn",
        "outputId": "76095ac3-1bfa-4455-e6fd-7ec5e3a019e7"
      },
      "source": [
        "!python infer.py -c config/my_train.yml config/default_infer.yml --device 0"
      ],
      "execution_count": null,
      "outputs": [
        {
          "output_type": "stream",
          "name": "stdout",
          "text": [
            "Processing text for 'sample_dataset/txt/little_star.txt'.\n",
            "Traceback (most recent call last):\n",
            "  File \"infer.py\", line 51, in <module>\n",
            "    main()\n",
            "  File \"infer.py\", line 25, in main\n",
            "    G.load_state_dict(load_weights(config.checkpoint_file))\n",
            "  File \"utils/torch_utils.py\", line 53, in load_weights\n",
            "    state_dict = torch.load(checkpoint_path, map_location='cpu')['state_dict']\n",
            "  File \"/usr/local/lib/python3.7/dist-packages/torch/serialization.py\", line 594, in load\n",
            "    with _open_file_like(f, 'rb') as opened_file:\n",
            "  File \"/usr/local/lib/python3.7/dist-packages/torch/serialization.py\", line 230, in _open_file_like\n",
            "    return _open_file(name_or_buffer, mode)\n",
            "  File \"/usr/local/lib/python3.7/dist-packages/torch/serialization.py\", line 211, in __init__\n",
            "    super(_open_file, self).__init__(open(name, mode))\n",
            "FileNotFoundError: [Errno 2] No such file or directory: 'checkpoint/default/latest_G.pt'\n"
          ]
        }
      ]
    }
  ]
}