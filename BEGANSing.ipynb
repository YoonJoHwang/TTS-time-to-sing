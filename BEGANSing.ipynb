{
  "nbformat": 4,
  "nbformat_minor": 0,
  "metadata": {
    "colab": {
      "name": "BEGANSing.ipynb",
      "provenance": [],
      "collapsed_sections": [],
      "toc_visible": true,
      "include_colab_link": true
    },
    "kernelspec": {
      "name": "python3",
      "display_name": "Python 3"
    },
    "language_info": {
      "name": "python"
    },
    "accelerator": "GPU"
  },
  "cells": [
    {
      "cell_type": "markdown",
      "metadata": {
        "id": "view-in-github",
        "colab_type": "text"
      },
      "source": [
        "<a href=\"https://colab.research.google.com/github/EndEkddl/BEGANSing/blob/inhye/BEGANSing.ipynb\" target=\"_parent\"><img src=\"https://colab.research.google.com/assets/colab-badge.svg\" alt=\"Open In Colab\"/></a>"
      ]
    },
    {
      "cell_type": "code",
      "metadata": {
        "id": "oofcY-HqGzbJ"
      },
      "source": [
        "!git clone -q https://github.com/HyunsuMoh/BEGANSing\n",
        "!mv BEGANSing/* ."
      ],
      "execution_count": 3,
      "outputs": []
    },
    {
      "cell_type": "code",
      "metadata": {
        "id": "TwUcSr2fFEIN"
      },
      "source": [
        "!rm -rf BEGANSing\n",
        "!rm -rf ./config\n",
        "!rm -rf ./g2p\n",
        "!rm -rf ./model\n",
        "!rm -rf ./utils\n",
        "!rm -rf ./sample_dataset"
      ],
      "execution_count": 2,
      "outputs": []
    },
    {
      "cell_type": "code",
      "metadata": {
        "id": "M9W4VNSrI-X1"
      },
      "source": [
        "# !wget https://zenodo.org/record/4916302/files/CSD.zip"
      ],
      "execution_count": null,
      "outputs": []
    },
    {
      "cell_type": "code",
      "metadata": {
        "id": "DRLk5U9FJs3n"
      },
      "source": [
        "# !unzip CSD.zip\n",
        "# !rm CSD.zip"
      ],
      "execution_count": null,
      "outputs": []
    },
    {
      "cell_type": "code",
      "metadata": {
        "id": "dgHKtx0fKcWl",
        "colab": {
          "base_uri": "https://localhost:8080/"
        },
        "outputId": "d164595b-b8a9-4041-ad96-78e24a88ef50"
      },
      "source": [
        "# !cp CSD/korean/wav/* sample_dataset/wav\n",
        "# !cp CSD/korean/mid/* sample_dataset/mid\n",
        "# !cp CSD/korean/lyric/* sample_dataset/txt"
      ],
      "execution_count": 5,
      "outputs": [
        {
          "output_type": "stream",
          "name": "stdout",
          "text": [
            "cp: cannot stat 'CSD/korean/wav/*': No such file or directory\n",
            "cp: cannot stat 'CSD/korean/mid/*': No such file or directory\n",
            "cp: cannot stat 'CSD/korean/lyric/*': No such file or directory\n"
          ]
        }
      ]
    },
    {
      "cell_type": "code",
      "metadata": {
        "id": "Dp4nZTzoNdmo",
        "colab": {
          "base_uri": "https://localhost:8080/"
        },
        "outputId": "b2a0f218-2a50-404d-a46d-277e2aca7ac6"
      },
      "source": [
        "!ls CSD/korean/lyric > sample_dataset/valid_list.txt\n",
        "!sed 's/.txt//g' sample_dataset/valid_list.txt > sample_dataset/train_list.txt\n",
        "!cp sample_dataset/train_list.txt sample_dataset/valid_list.txt"
      ],
      "execution_count": 6,
      "outputs": [
        {
          "output_type": "stream",
          "name": "stdout",
          "text": [
            "ls: cannot access 'CSD/korean/lyric': No such file or directory\n"
          ]
        }
      ]
    },
    {
      "cell_type": "code",
      "metadata": {
        "id": "uzdtlMG2NjbI"
      },
      "source": [
        "!cp config/default_train.yml config/my_train.yml"
      ],
      "execution_count": 30,
      "outputs": []
    },
    {
      "cell_type": "code",
      "metadata": {
        "colab": {
          "base_uri": "https://localhost:8080/"
        },
        "id": "WYWuSEcUJk5b",
        "outputId": "fe573b9d-20af-4470-d04d-44f07cfa4177"
      },
      "source": [
        "!pip install -r requirements.txt"
      ],
      "execution_count": 8,
      "outputs": [
        {
          "output_type": "stream",
          "name": "stdout",
          "text": [
            "Collecting mido\n",
            "  Downloading mido-1.2.10-py2.py3-none-any.whl (51 kB)\n",
            "\u001b[?25l\r\u001b[K     |██████▍                         | 10 kB 23.1 MB/s eta 0:00:01\r\u001b[K     |████████████▉                   | 20 kB 24.6 MB/s eta 0:00:01\r\u001b[K     |███████████████████▎            | 30 kB 15.9 MB/s eta 0:00:01\r\u001b[K     |█████████████████████████▋      | 40 kB 14.8 MB/s eta 0:00:01\r\u001b[K     |████████████████████████████████| 51 kB 3.3 MB/s \n",
            "\u001b[?25hRequirement already satisfied: pyyaml in /usr/local/lib/python3.7/dist-packages (from -r requirements.txt (line 2)) (3.13)\n",
            "Requirement already satisfied: scipy in /usr/local/lib/python3.7/dist-packages (from -r requirements.txt (line 3)) (1.4.1)\n",
            "Requirement already satisfied: tensorboard in /usr/local/lib/python3.7/dist-packages (from -r requirements.txt (line 4)) (2.6.0)\n",
            "Collecting torchaudio\n",
            "  Downloading torchaudio-0.10.0-cp37-cp37m-manylinux1_x86_64.whl (2.9 MB)\n",
            "\u001b[K     |████████████████████████████████| 2.9 MB 8.8 MB/s \n",
            "\u001b[?25hRequirement already satisfied: tqdm in /usr/local/lib/python3.7/dist-packages (from -r requirements.txt (line 6)) (4.62.3)\n",
            "Requirement already satisfied: numpy>=1.13.3 in /usr/local/lib/python3.7/dist-packages (from scipy->-r requirements.txt (line 3)) (1.19.5)\n",
            "Requirement already satisfied: google-auth<2,>=1.6.3 in /usr/local/lib/python3.7/dist-packages (from tensorboard->-r requirements.txt (line 4)) (1.35.0)\n",
            "Requirement already satisfied: setuptools>=41.0.0 in /usr/local/lib/python3.7/dist-packages (from tensorboard->-r requirements.txt (line 4)) (57.4.0)\n",
            "Requirement already satisfied: google-auth-oauthlib<0.5,>=0.4.1 in /usr/local/lib/python3.7/dist-packages (from tensorboard->-r requirements.txt (line 4)) (0.4.6)\n",
            "Requirement already satisfied: protobuf>=3.6.0 in /usr/local/lib/python3.7/dist-packages (from tensorboard->-r requirements.txt (line 4)) (3.17.3)\n",
            "Requirement already satisfied: tensorboard-data-server<0.7.0,>=0.6.0 in /usr/local/lib/python3.7/dist-packages (from tensorboard->-r requirements.txt (line 4)) (0.6.1)\n",
            "Requirement already satisfied: grpcio>=1.24.3 in /usr/local/lib/python3.7/dist-packages (from tensorboard->-r requirements.txt (line 4)) (1.41.0)\n",
            "Requirement already satisfied: wheel>=0.26 in /usr/local/lib/python3.7/dist-packages (from tensorboard->-r requirements.txt (line 4)) (0.37.0)\n",
            "Requirement already satisfied: tensorboard-plugin-wit>=1.6.0 in /usr/local/lib/python3.7/dist-packages (from tensorboard->-r requirements.txt (line 4)) (1.8.0)\n",
            "Requirement already satisfied: werkzeug>=0.11.15 in /usr/local/lib/python3.7/dist-packages (from tensorboard->-r requirements.txt (line 4)) (1.0.1)\n",
            "Requirement already satisfied: markdown>=2.6.8 in /usr/local/lib/python3.7/dist-packages (from tensorboard->-r requirements.txt (line 4)) (3.3.4)\n",
            "Requirement already satisfied: requests<3,>=2.21.0 in /usr/local/lib/python3.7/dist-packages (from tensorboard->-r requirements.txt (line 4)) (2.23.0)\n",
            "Requirement already satisfied: absl-py>=0.4 in /usr/local/lib/python3.7/dist-packages (from tensorboard->-r requirements.txt (line 4)) (0.12.0)\n",
            "Requirement already satisfied: six in /usr/local/lib/python3.7/dist-packages (from absl-py>=0.4->tensorboard->-r requirements.txt (line 4)) (1.15.0)\n",
            "Requirement already satisfied: cachetools<5.0,>=2.0.0 in /usr/local/lib/python3.7/dist-packages (from google-auth<2,>=1.6.3->tensorboard->-r requirements.txt (line 4)) (4.2.4)\n",
            "Requirement already satisfied: pyasn1-modules>=0.2.1 in /usr/local/lib/python3.7/dist-packages (from google-auth<2,>=1.6.3->tensorboard->-r requirements.txt (line 4)) (0.2.8)\n",
            "Requirement already satisfied: rsa<5,>=3.1.4 in /usr/local/lib/python3.7/dist-packages (from google-auth<2,>=1.6.3->tensorboard->-r requirements.txt (line 4)) (4.7.2)\n",
            "Requirement already satisfied: requests-oauthlib>=0.7.0 in /usr/local/lib/python3.7/dist-packages (from google-auth-oauthlib<0.5,>=0.4.1->tensorboard->-r requirements.txt (line 4)) (1.3.0)\n",
            "Requirement already satisfied: importlib-metadata in /usr/local/lib/python3.7/dist-packages (from markdown>=2.6.8->tensorboard->-r requirements.txt (line 4)) (4.8.1)\n",
            "Requirement already satisfied: pyasn1<0.5.0,>=0.4.6 in /usr/local/lib/python3.7/dist-packages (from pyasn1-modules>=0.2.1->google-auth<2,>=1.6.3->tensorboard->-r requirements.txt (line 4)) (0.4.8)\n",
            "Requirement already satisfied: urllib3!=1.25.0,!=1.25.1,<1.26,>=1.21.1 in /usr/local/lib/python3.7/dist-packages (from requests<3,>=2.21.0->tensorboard->-r requirements.txt (line 4)) (1.24.3)\n",
            "Requirement already satisfied: chardet<4,>=3.0.2 in /usr/local/lib/python3.7/dist-packages (from requests<3,>=2.21.0->tensorboard->-r requirements.txt (line 4)) (3.0.4)\n",
            "Requirement already satisfied: idna<3,>=2.5 in /usr/local/lib/python3.7/dist-packages (from requests<3,>=2.21.0->tensorboard->-r requirements.txt (line 4)) (2.10)\n",
            "Requirement already satisfied: certifi>=2017.4.17 in /usr/local/lib/python3.7/dist-packages (from requests<3,>=2.21.0->tensorboard->-r requirements.txt (line 4)) (2021.5.30)\n",
            "Requirement already satisfied: oauthlib>=3.0.0 in /usr/local/lib/python3.7/dist-packages (from requests-oauthlib>=0.7.0->google-auth-oauthlib<0.5,>=0.4.1->tensorboard->-r requirements.txt (line 4)) (3.1.1)\n",
            "Collecting torch==1.10.0\n",
            "  Downloading torch-1.10.0-cp37-cp37m-manylinux1_x86_64.whl (881.9 MB)\n",
            "\u001b[K     |██████████████████████████████▎ | 834.1 MB 1.3 MB/s eta 0:00:37tcmalloc: large alloc 1147494400 bytes == 0x55f151e78000 @  0x7f2bdb717615 0x55f118b644cc 0x55f118c4447a 0x55f118b672ed 0x55f118c58e1d 0x55f118bdae99 0x55f118bd59ee 0x55f118b68bda 0x55f118bdad00 0x55f118bd59ee 0x55f118b68bda 0x55f118bd7737 0x55f118c59c66 0x55f118bd6daf 0x55f118c59c66 0x55f118bd6daf 0x55f118c59c66 0x55f118bd6daf 0x55f118b69039 0x55f118bac409 0x55f118b67c52 0x55f118bdac25 0x55f118bd59ee 0x55f118b68bda 0x55f118bd7737 0x55f118bd59ee 0x55f118b68bda 0x55f118bd6915 0x55f118b68afa 0x55f118bd6c0d 0x55f118bd59ee\n",
            "\u001b[K     |████████████████████████████████| 881.9 MB 13 kB/s \n",
            "\u001b[?25hRequirement already satisfied: typing-extensions in /usr/local/lib/python3.7/dist-packages (from torch==1.10.0->torchaudio->-r requirements.txt (line 5)) (3.7.4.3)\n",
            "Requirement already satisfied: zipp>=0.5 in /usr/local/lib/python3.7/dist-packages (from importlib-metadata->markdown>=2.6.8->tensorboard->-r requirements.txt (line 4)) (3.6.0)\n",
            "Installing collected packages: torch, torchaudio, mido\n",
            "  Attempting uninstall: torch\n",
            "    Found existing installation: torch 1.9.0+cu111\n",
            "    Uninstalling torch-1.9.0+cu111:\n",
            "      Successfully uninstalled torch-1.9.0+cu111\n",
            "\u001b[31mERROR: pip's dependency resolver does not currently take into account all the packages that are installed. This behaviour is the source of the following dependency conflicts.\n",
            "torchvision 0.10.0+cu111 requires torch==1.9.0, but you have torch 1.10.0 which is incompatible.\n",
            "torchtext 0.10.0 requires torch==1.9.0, but you have torch 1.10.0 which is incompatible.\u001b[0m\n",
            "Successfully installed mido-1.2.10 torch-1.10.0 torchaudio-0.10.0\n"
          ]
        }
      ]
    },
    {
      "cell_type": "code",
      "metadata": {
        "colab": {
          "base_uri": "https://localhost:8080/"
        },
        "id": "yJu7bvE05ooo",
        "outputId": "7c94074d-599f-40c3-a02d-7e6acb4bb604"
      },
      "source": [
        "!pip install PyYAML==5.4.1"
      ],
      "execution_count": 9,
      "outputs": [
        {
          "output_type": "stream",
          "name": "stdout",
          "text": [
            "Collecting PyYAML==5.4.1\n",
            "  Downloading PyYAML-5.4.1-cp37-cp37m-manylinux1_x86_64.whl (636 kB)\n",
            "\u001b[K     |████████████████████████████████| 636 kB 5.3 MB/s \n",
            "\u001b[?25hInstalling collected packages: PyYAML\n",
            "  Attempting uninstall: PyYAML\n",
            "    Found existing installation: PyYAML 3.13\n",
            "    Uninstalling PyYAML-3.13:\n",
            "      Successfully uninstalled PyYAML-3.13\n",
            "Successfully installed PyYAML-5.4.1\n"
          ]
        }
      ]
    },
    {
      "cell_type": "code",
      "metadata": {
        "id": "ThT5E3sLJBFW"
      },
      "source": [
        "!rm -rf feature/default/valid\n",
        "!rm -rf feature/default/train"
      ],
      "execution_count": 10,
      "outputs": []
    },
    {
      "cell_type": "code",
      "metadata": {
        "colab": {
          "base_uri": "https://localhost:8080/"
        },
        "id": "dspHZPaqm9an",
        "outputId": "f3c2c798-0dba-4823-c8b5-f1ae4f936d21"
      },
      "source": [
        "!python preprocess.py -c config/my_train.yml --use_cpu True"
      ],
      "execution_count": 31,
      "outputs": [
        {
          "output_type": "stream",
          "name": "stdout",
          "text": [
            "Configuration file: 'my_train.yml'\n",
            "'feature/default/train' is overwritten.\n",
            "'feature/default/valid' is overwritten.\n",
            "little_star\n",
            "kr041a\n",
            "kr041b\n",
            "Feature saved to 'feature/default'.\n"
          ]
        }
      ]
    },
    {
      "cell_type": "code",
      "metadata": {
        "colab": {
          "base_uri": "https://localhost:8080/"
        },
        "id": "QhkfdZJvnbnk",
        "outputId": "bccfe263-b6bf-4f46-bf4e-1142937943e2"
      },
      "source": [
        "!python train.py -c config/my_train.yml --device 0 --batch_size 16"
      ],
      "execution_count": null,
      "outputs": [
        {
          "output_type": "stream",
          "name": "stdout",
          "text": [
            "Configuration file: 'my_train.yml'\n",
            "Checkpoint mode : continue\n",
            "Checkpoint path action : overwrite\n",
            "Gname : checkpoint/default_2/epoch25_G.pt\n",
            "checkpoint path : checkpoint/default_2\n",
            "Loaded checkpoint from checkpoint/default_2/epoch25_G.pt\n",
            "Loaded checkpoint from checkpoint/default_2/epoch25_D.pt\n",
            "[Epoch 26/500] [loss G train: 0.42512] [loss G valid: 0.40272] [loss D train: 0.14925] [lr: 0.000100]\n",
            "[Epoch 27/500] [loss G train: 0.40117] [loss G valid: 0.36927] [loss D train: 0.12067] [lr: 0.000100]\n",
            "[Epoch 28/500] [loss G train: 0.39807] [loss G valid: 0.37408] [loss D train: 0.11931] [lr: 0.000100]\n",
            "[Epoch 29/500] [loss G train: 0.39997] [loss G valid: 0.35991] [loss D train: 0.11857] [lr: 0.000100]\n",
            "[Epoch 30/500] [loss G train: 0.39311] [loss G valid: 0.38018] [loss D train: 0.12025] [lr: 0.000100]\n",
            "[Epoch 31/500] [loss G train: 0.39826] [loss G valid: 0.35662] [loss D train: 0.12104] [lr: 0.000100]\n",
            "[Epoch 32/500] [loss G train: 0.40025] [loss G valid: 0.37381] [loss D train: 0.11889] [lr: 0.000100]\n",
            "[Epoch 33/500] [loss G train: 0.38812] [loss G valid: 0.37097] [loss D train: 0.11598] [lr: 0.000100]\n",
            "[Epoch 34/500] [loss G train: 0.39030] [loss G valid: 0.40372] [loss D train: 0.11385] [lr: 0.000100]\n",
            "[Epoch 35/500] [loss G train: 0.39379] [loss G valid: 0.38342] [loss D train: 0.11730] [lr: 0.000100]\n",
            "[Epoch 36/500] [loss G train: 0.37717] [loss G valid: 0.36552] [loss D train: 0.11125] [lr: 0.000100]\n",
            "[Epoch 37/500] [loss G train: 0.39271] [loss G valid: 0.39233] [loss D train: 0.11940] [lr: 0.000100]\n",
            "[Epoch 38/500] [loss G train: 0.39518] [loss G valid: 0.43366] [loss D train: 0.12480] [lr: 0.000100]\n",
            "[Epoch 39/500] [loss G train: 0.36849] [loss G valid: 0.37135] [loss D train: 0.11045] [lr: 0.000100]\n",
            "[Epoch 40/500] [loss G train: 0.36891] [loss G valid: 0.42792] [loss D train: 0.10925] [lr: 0.000100]\n",
            "[Epoch 41/500] [loss G train: 0.37598] [loss G valid: 0.36690] [loss D train: 0.10854] [lr: 0.000100]\n",
            "[Epoch 42/500] [loss G train: 0.36455] [loss G valid: 0.34321] [loss D train: 0.10885] [lr: 0.000100]\n",
            "[Epoch 43/500] [loss G train: 0.35720] [loss G valid: 0.35464] [loss D train: 0.10739] [lr: 0.000100]\n",
            "[Epoch 44/500] [loss G train: 0.35260] [loss G valid: 0.33110] [loss D train: 0.10627] [lr: 0.000100]\n",
            "[Epoch 45/500] [loss G train: 0.34849] [loss G valid: 0.55526] [loss D train: 0.10707] [lr: 0.000100]\n",
            "[Epoch 46/500] [loss G train: 0.37275] [loss G valid: 0.43857] [loss D train: 0.11500] [lr: 0.000100]\n",
            "[Epoch 47/500] [loss G train: 0.35321] [loss G valid: 0.37115] [loss D train: 0.10751] [lr: 0.000100]\n",
            "[Epoch 48/500] [loss G train: 0.35223] [loss G valid: 0.47850] [loss D train: 0.10521] [lr: 0.000100]\n",
            "[Epoch 49/500] [loss G train: 0.38555] [loss G valid: 0.35140] [loss D train: 0.14138] [lr: 0.000100]\n",
            "[Epoch 50/500] [loss G train: 0.35549] [loss G valid: 0.35692] [loss D train: 0.10528] [lr: 0.000100]\n",
            "[Epoch 51/500] [loss G train: 0.35027] [loss G valid: 0.35025] [loss D train: 0.10458] [lr: 0.000100]\n",
            " 45% 9/20 [00:04<00:05,  2.08it/s]"
          ]
        }
      ]
    },
    {
      "cell_type": "code",
      "metadata": {
        "colab": {
          "base_uri": "https://localhost:8080/"
        },
        "id": "qq0knq7EWMyn",
        "outputId": "ddb50a41-b428-4f5f-868f-7e3527070f69"
      },
      "source": [
        "!python infer.py -c config/my_train.yml config/default_infer.yml --device 0"
      ],
      "execution_count": 36,
      "outputs": [
        {
          "output_type": "stream",
          "name": "stdout",
          "text": [
            "Traceback (most recent call last):\n",
            "  File \"infer.py\", line 9, in <module>\n",
            "  File \"utils/dsp.py\", line 5, in <module>\n",
            "    from scipy import signal\n",
            "  File \"/usr/local/lib/python3.7/dist-packages/scipy/signal/__init__.py\", line 309, in <module>\n",
            "    from ._peak_finding import *\n",
            "  File \"/usr/local/lib/python3.7/dist-packages/scipy/signal/_peak_finding.py\", line 11, in <module>\n",
            "    from scipy.stats import scoreatpercentile\n",
            "  File \"/usr/local/lib/python3.7/dist-packages/scipy/stats/__init__.py\", line 384, in <module>\n",
            "    from .stats import *\n",
            "  File \"/usr/local/lib/python3.7/dist-packages/scipy/stats/stats.py\", line 185, in <module>\n",
            "    from . import distributions\n",
            "  File \"/usr/local/lib/python3.7/dist-packages/scipy/stats/distributions.py\", line 13, in <module>\n",
            "    from . import _continuous_distns\n",
            "  File \"/usr/local/lib/python3.7/dist-packages/scipy/stats/_continuous_distns.py\", line 397, in <module>\n",
            "    anglit = anglit_gen(a=-np.pi/4, b=np.pi/4, name='anglit')\n",
            "  File \"/usr/local/lib/python3.7/dist-packages/scipy/stats/_distn_infrastructure.py\", line 1601, in __init__\n",
            "    locscale_out='loc, scale')\n",
            "  File \"/usr/local/lib/python3.7/dist-packages/scipy/stats/_distn_infrastructure.py\", line 694, in _construct_argparser\n",
            "    instancemethod(ns[name], self, self.__class__)\n",
            "KeyboardInterrupt\n"
          ]
        }
      ]
    }
  ]
}