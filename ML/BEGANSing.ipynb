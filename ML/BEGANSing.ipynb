{
  "nbformat": 4,
  "nbformat_minor": 0,
  "metadata": {
    "colab": {
      "name": "BEGANSing.ipynb",
      "provenance": [],
      "collapsed_sections": [],
      "include_colab_link": true
    },
    "kernelspec": {
      "name": "python3",
      "display_name": "Python 3"
    },
    "language_info": {
      "name": "python"
    },
    "accelerator": "GPU"
  },
  "cells": [
    {
      "cell_type": "markdown",
      "metadata": {
        "id": "view-in-github",
        "colab_type": "text"
      },
      "source": [
        "<a href=\"https://colab.research.google.com/github/EndEkddl/BEGANSing/blob/inhye/BEGANSing.ipynb\" target=\"_parent\"><img src=\"https://colab.research.google.com/assets/colab-badge.svg\" alt=\"Open In Colab\"/></a>"
      ]
    },
    {
      "cell_type": "code",
      "metadata": {
        "id": "oofcY-HqGzbJ"
      },
      "source": [
        "!git clone -q https://github.com/HyunsuMoh/BEGANSing\n",
        "!mv BEGANSing/* ."
      ],
      "execution_count": 1,
      "outputs": []
    },
    {
      "cell_type": "code",
      "metadata": {
        "colab": {
          "base_uri": "https://localhost:8080/"
        },
        "id": "M9W4VNSrI-X1",
        "outputId": "f3efad21-da23-4dcb-9564-8bfff7e60e44"
      },
      "source": [
        "!wget https://zenodo.org/record/4916302/files/CSD.zip"
      ],
      "execution_count": null,
      "outputs": [
        {
          "output_type": "stream",
          "name": "stdout",
          "text": [
            "--2021-10-09 06:39:11--  https://zenodo.org/record/4916302/files/CSD.zip\n",
            "Resolving zenodo.org (zenodo.org)... 137.138.76.77\n",
            "Connecting to zenodo.org (zenodo.org)|137.138.76.77|:443... connected.\n",
            "HTTP request sent, awaiting response... 200 OK\n",
            "Length: 1851131390 (1.7G) [application/octet-stream]\n",
            "Saving to: ‘CSD.zip’\n",
            "\n",
            "CSD.zip             100%[===================>]   1.72G  6.16MB/s    in 8m 7s   \n",
            "\n",
            "2021-10-09 06:47:20 (3.63 MB/s) - ‘CSD.zip’ saved [1851131390/1851131390]\n",
            "\n"
          ]
        }
      ]
    },
    {
      "cell_type": "code",
      "metadata": {
        "id": "DRLk5U9FJs3n"
      },
      "source": [
        "!unzip CSD.zip\n",
        "!rm CSD.zip"
      ],
      "execution_count": null,
      "outputs": []
    },
    {
      "cell_type": "code",
      "metadata": {
        "id": "dgHKtx0fKcWl"
      },
      "source": [
        "!cp CSD/korean/wav/* sample_dataset/wav\n",
        "!cp CSD/korean/mid/* sample_dataset/mid\n",
        "!cp CSD/korean/lyric/* sample_dataset/txt"
      ],
      "execution_count": null,
      "outputs": []
    },
    {
      "cell_type": "code",
      "metadata": {
        "id": "Dp4nZTzoNdmo",
        "outputId": "953193f2-dbaf-4e2e-e4f2-db18c1b2d6c2",
        "colab": {
          "base_uri": "https://localhost:8080/"
        }
      },
      "source": [
        "!ls CSD/korean/lyric > sample_dataset/valid_list.txt\n",
        "!sed 's/.txt//g' sample_dataset/valid_list.txt > sample_dataset/train_list.txt\n",
        "!cp sample_dataset/train_list.txt sample_dataset/valid_list.txt"
      ],
      "execution_count": 2,
      "outputs": [
        {
          "output_type": "stream",
          "name": "stdout",
          "text": [
            "ls: cannot access 'CSD/korean/lyric': No such file or directory\n"
          ]
        }
      ]
    },
    {
      "cell_type": "code",
      "metadata": {
        "id": "uzdtlMG2NjbI"
      },
      "source": [
        "!cp config/default_train_windows.yml config/my_train.yml"
      ],
      "execution_count": 44,
      "outputs": []
    },
    {
      "cell_type": "code",
      "metadata": {
        "colab": {
          "base_uri": "https://localhost:8080/"
        },
        "id": "WYWuSEcUJk5b",
        "outputId": "ca3fd738-1b1d-4508-c1e5-430bb78acdb4"
      },
      "source": [
        "!pip install -r requirements.txt"
      ],
      "execution_count": 4,
      "outputs": [
        {
          "output_type": "stream",
          "name": "stdout",
          "text": [
            "Collecting mido\n",
            "  Downloading mido-1.2.10-py2.py3-none-any.whl (51 kB)\n",
            "\u001b[K     |████████████████████████████████| 51 kB 3.0 MB/s \n",
            "\u001b[?25hRequirement already satisfied: pyyaml in /usr/local/lib/python3.7/dist-packages (from -r requirements.txt (line 2)) (3.13)\n",
            "Requirement already satisfied: scipy in /usr/local/lib/python3.7/dist-packages (from -r requirements.txt (line 3)) (1.4.1)\n",
            "Requirement already satisfied: tensorboard in /usr/local/lib/python3.7/dist-packages (from -r requirements.txt (line 4)) (2.7.0)\n",
            "Collecting torchaudio\n",
            "  Downloading torchaudio-0.10.0-cp37-cp37m-manylinux1_x86_64.whl (2.9 MB)\n",
            "\u001b[K     |████████████████████████████████| 2.9 MB 10.0 MB/s \n",
            "\u001b[?25hRequirement already satisfied: tqdm in /usr/local/lib/python3.7/dist-packages (from -r requirements.txt (line 6)) (4.62.3)\n",
            "Requirement already satisfied: numpy>=1.13.3 in /usr/local/lib/python3.7/dist-packages (from scipy->-r requirements.txt (line 3)) (1.19.5)\n",
            "Requirement already satisfied: wheel>=0.26 in /usr/local/lib/python3.7/dist-packages (from tensorboard->-r requirements.txt (line 4)) (0.37.0)\n",
            "Requirement already satisfied: tensorboard-data-server<0.7.0,>=0.6.0 in /usr/local/lib/python3.7/dist-packages (from tensorboard->-r requirements.txt (line 4)) (0.6.1)\n",
            "Requirement already satisfied: markdown>=2.6.8 in /usr/local/lib/python3.7/dist-packages (from tensorboard->-r requirements.txt (line 4)) (3.3.4)\n",
            "Requirement already satisfied: requests<3,>=2.21.0 in /usr/local/lib/python3.7/dist-packages (from tensorboard->-r requirements.txt (line 4)) (2.23.0)\n",
            "Requirement already satisfied: tensorboard-plugin-wit>=1.6.0 in /usr/local/lib/python3.7/dist-packages (from tensorboard->-r requirements.txt (line 4)) (1.8.0)\n",
            "Requirement already satisfied: google-auth<3,>=1.6.3 in /usr/local/lib/python3.7/dist-packages (from tensorboard->-r requirements.txt (line 4)) (1.35.0)\n",
            "Requirement already satisfied: protobuf>=3.6.0 in /usr/local/lib/python3.7/dist-packages (from tensorboard->-r requirements.txt (line 4)) (3.17.3)\n",
            "Requirement already satisfied: setuptools>=41.0.0 in /usr/local/lib/python3.7/dist-packages (from tensorboard->-r requirements.txt (line 4)) (57.4.0)\n",
            "Requirement already satisfied: absl-py>=0.4 in /usr/local/lib/python3.7/dist-packages (from tensorboard->-r requirements.txt (line 4)) (0.12.0)\n",
            "Requirement already satisfied: werkzeug>=0.11.15 in /usr/local/lib/python3.7/dist-packages (from tensorboard->-r requirements.txt (line 4)) (1.0.1)\n",
            "Requirement already satisfied: grpcio>=1.24.3 in /usr/local/lib/python3.7/dist-packages (from tensorboard->-r requirements.txt (line 4)) (1.41.1)\n",
            "Requirement already satisfied: google-auth-oauthlib<0.5,>=0.4.1 in /usr/local/lib/python3.7/dist-packages (from tensorboard->-r requirements.txt (line 4)) (0.4.6)\n",
            "Requirement already satisfied: six in /usr/local/lib/python3.7/dist-packages (from absl-py>=0.4->tensorboard->-r requirements.txt (line 4)) (1.15.0)\n",
            "Requirement already satisfied: pyasn1-modules>=0.2.1 in /usr/local/lib/python3.7/dist-packages (from google-auth<3,>=1.6.3->tensorboard->-r requirements.txt (line 4)) (0.2.8)\n",
            "Requirement already satisfied: cachetools<5.0,>=2.0.0 in /usr/local/lib/python3.7/dist-packages (from google-auth<3,>=1.6.3->tensorboard->-r requirements.txt (line 4)) (4.2.4)\n",
            "Requirement already satisfied: rsa<5,>=3.1.4 in /usr/local/lib/python3.7/dist-packages (from google-auth<3,>=1.6.3->tensorboard->-r requirements.txt (line 4)) (4.7.2)\n",
            "Requirement already satisfied: requests-oauthlib>=0.7.0 in /usr/local/lib/python3.7/dist-packages (from google-auth-oauthlib<0.5,>=0.4.1->tensorboard->-r requirements.txt (line 4)) (1.3.0)\n",
            "Requirement already satisfied: importlib-metadata in /usr/local/lib/python3.7/dist-packages (from markdown>=2.6.8->tensorboard->-r requirements.txt (line 4)) (4.8.1)\n",
            "Requirement already satisfied: pyasn1<0.5.0,>=0.4.6 in /usr/local/lib/python3.7/dist-packages (from pyasn1-modules>=0.2.1->google-auth<3,>=1.6.3->tensorboard->-r requirements.txt (line 4)) (0.4.8)\n",
            "Requirement already satisfied: idna<3,>=2.5 in /usr/local/lib/python3.7/dist-packages (from requests<3,>=2.21.0->tensorboard->-r requirements.txt (line 4)) (2.10)\n",
            "Requirement already satisfied: urllib3!=1.25.0,!=1.25.1,<1.26,>=1.21.1 in /usr/local/lib/python3.7/dist-packages (from requests<3,>=2.21.0->tensorboard->-r requirements.txt (line 4)) (1.24.3)\n",
            "Requirement already satisfied: chardet<4,>=3.0.2 in /usr/local/lib/python3.7/dist-packages (from requests<3,>=2.21.0->tensorboard->-r requirements.txt (line 4)) (3.0.4)\n",
            "Requirement already satisfied: certifi>=2017.4.17 in /usr/local/lib/python3.7/dist-packages (from requests<3,>=2.21.0->tensorboard->-r requirements.txt (line 4)) (2021.10.8)\n",
            "Requirement already satisfied: oauthlib>=3.0.0 in /usr/local/lib/python3.7/dist-packages (from requests-oauthlib>=0.7.0->google-auth-oauthlib<0.5,>=0.4.1->tensorboard->-r requirements.txt (line 4)) (3.1.1)\n",
            "Collecting torch==1.10.0\n",
            "  Downloading torch-1.10.0-cp37-cp37m-manylinux1_x86_64.whl (881.9 MB)\n",
            "\u001b[K     |██████████████████████████████▎ | 834.1 MB 1.3 MB/s eta 0:00:37tcmalloc: large alloc 1147494400 bytes == 0x55df6260a000 @  0x7fa27114a615 0x55df29c764cc 0x55df29d5647a 0x55df29c792ed 0x55df29d6ae1d 0x55df29cece99 0x55df29ce79ee 0x55df29c7abda 0x55df29cecd00 0x55df29ce79ee 0x55df29c7abda 0x55df29ce9737 0x55df29d6bc66 0x55df29ce8daf 0x55df29d6bc66 0x55df29ce8daf 0x55df29d6bc66 0x55df29ce8daf 0x55df29c7b039 0x55df29cbe409 0x55df29c79c52 0x55df29cecc25 0x55df29ce79ee 0x55df29c7abda 0x55df29ce9737 0x55df29ce79ee 0x55df29c7abda 0x55df29ce8915 0x55df29c7aafa 0x55df29ce8c0d 0x55df29ce79ee\n",
            "\u001b[K     |████████████████████████████████| 881.9 MB 20 kB/s \n",
            "\u001b[?25hRequirement already satisfied: typing-extensions in /usr/local/lib/python3.7/dist-packages (from torch==1.10.0->torchaudio->-r requirements.txt (line 5)) (3.10.0.2)\n",
            "Requirement already satisfied: zipp>=0.5 in /usr/local/lib/python3.7/dist-packages (from importlib-metadata->markdown>=2.6.8->tensorboard->-r requirements.txt (line 4)) (3.6.0)\n",
            "Installing collected packages: torch, torchaudio, mido\n",
            "  Attempting uninstall: torch\n",
            "    Found existing installation: torch 1.9.0+cu111\n",
            "    Uninstalling torch-1.9.0+cu111:\n",
            "      Successfully uninstalled torch-1.9.0+cu111\n",
            "\u001b[31mERROR: pip's dependency resolver does not currently take into account all the packages that are installed. This behaviour is the source of the following dependency conflicts.\n",
            "torchvision 0.10.0+cu111 requires torch==1.9.0, but you have torch 1.10.0 which is incompatible.\n",
            "torchtext 0.10.0 requires torch==1.9.0, but you have torch 1.10.0 which is incompatible.\u001b[0m\n",
            "Successfully installed mido-1.2.10 torch-1.10.0 torchaudio-0.10.0\n"
          ]
        }
      ]
    },
    {
      "cell_type": "code",
      "metadata": {
        "colab": {
          "base_uri": "https://localhost:8080/"
        },
        "id": "yJu7bvE05ooo",
        "outputId": "b1c8c7ae-37a0-4065-b8f7-551bd0f2978b"
      },
      "source": [
        "!pip install PyYAML==5.4.1"
      ],
      "execution_count": 47,
      "outputs": [
        {
          "output_type": "stream",
          "name": "stdout",
          "text": [
            "Requirement already satisfied: PyYAML==5.4.1 in /usr/local/lib/python3.7/dist-packages (5.4.1)\n"
          ]
        }
      ]
    },
    {
      "cell_type": "code",
      "metadata": {
        "colab": {
          "base_uri": "https://localhost:8080/"
        },
        "id": "dspHZPaqm9an",
        "outputId": "585352a4-fe2e-46cd-a7d0-ad7313511ecb"
      },
      "source": [
        "!python preprocess.py -c config/my_train.yml --use_cpu true"
      ],
      "execution_count": 54,
      "outputs": [
        {
          "output_type": "stream",
          "name": "stdout",
          "text": [
            "Configuration file: 'my_train.yml'\n",
            "'feature/default/train' is overwritten.\n",
            "'feature/default/valid' is overwritten.\n",
            "kr034a\n",
            "kr001a\n",
            "kr002a\n",
            "Feature saved to 'feature/default'.\n"
          ]
        }
      ]
    },
    {
      "cell_type": "code",
      "metadata": {
        "colab": {
          "base_uri": "https://localhost:8080/"
        },
        "id": "QhkfdZJvnbnk",
        "outputId": "8501e053-a970-44ea-8514-0b196cf43104"
      },
      "source": [
        "!python train.py -c config/my_train.yml --device 0 --batch_size 16"
      ],
      "execution_count": 112,
      "outputs": [
        {
          "output_type": "stream",
          "name": "stdout",
          "text": [
            "Configuration file: 'my_train.yml'\n",
            "'checkpoint/default' is overwritten.\n",
            "Traceback (most recent call last):\n",
            "  File \"train.py\", line 153, in <module>\n",
            "    main()\n",
            "  File \"train.py\", line 68, in main\n",
            "    objG = load_checkpoint(config.loaded_checkpoint_path_G, G, optimizerG, config.learn_rate, cnt)\n",
            "  File \"utils/torch_utils.py\", line 80, in load_checkpoint\n",
            "    checkpoint = torch.load(checkpoint_path, map_location='cpu')\n",
            "  File \"/usr/local/lib/python3.7/dist-packages/torch/serialization.py\", line 600, in load\n",
            "    with _open_zipfile_reader(opened_file) as opened_zipfile:\n",
            "  File \"/usr/local/lib/python3.7/dist-packages/torch/serialization.py\", line 242, in __init__\n",
            "    super(_open_zipfile_reader, self).__init__(torch._C.PyTorchFileReader(name_or_buffer))\n",
            "RuntimeError: PytorchStreamReader failed reading zip archive: failed finding central directory\n"
          ]
        }
      ]
    },
    {
      "cell_type": "code",
      "metadata": {
        "id": "5wF6KBxS01ih",
        "outputId": "5007e77c-b611-44dc-8fc0-f40be6e550f8",
        "colab": {
          "base_uri": "https://localhost:8080/"
        }
      },
      "source": [
        "%cd ../\n",
        "%cd ../\n",
        "!ls"
      ],
      "execution_count": 82,
      "outputs": [
        {
          "output_type": "stream",
          "name": "stdout",
          "text": [
            "/content/checkpoint\n",
            "/content\n",
            "BEGANSing\t\tdataprocess.py\tpreprocess.py\t  sample_dataset\n",
            "checkpoint\t\tfeature\t\t__pycache__\t  train.py\n",
            "conda_env_windows.yaml\tg2p\t\tREADME.md\t  utils\n",
            "conda_env.yaml\t\tinfer.py\trequirements.txt\n",
            "config\t\t\tmodel\t\tsample_data\n"
          ]
        }
      ]
    },
    {
      "cell_type": "code",
      "metadata": {
        "colab": {
          "base_uri": "https://localhost:8080/"
        },
        "id": "qq0knq7EWMyn",
        "outputId": "76095ac3-1bfa-4455-e6fd-7ec5e3a019e7"
      },
      "source": [
        "!python infer.py -c config/my_train.yml config/default_infer.yml --device 0"
      ],
      "execution_count": null,
      "outputs": [
        {
          "output_type": "stream",
          "name": "stdout",
          "text": [
            "Processing text for 'sample_dataset/txt/little_star.txt'.\n",
            "Traceback (most recent call last):\n",
            "  File \"infer.py\", line 51, in <module>\n",
            "    main()\n",
            "  File \"infer.py\", line 25, in main\n",
            "    G.load_state_dict(load_weights(config.checkpoint_file))\n",
            "  File \"utils/torch_utils.py\", line 53, in load_weights\n",
            "    state_dict = torch.load(checkpoint_path, map_location='cpu')['state_dict']\n",
            "  File \"/usr/local/lib/python3.7/dist-packages/torch/serialization.py\", line 594, in load\n",
            "    with _open_file_like(f, 'rb') as opened_file:\n",
            "  File \"/usr/local/lib/python3.7/dist-packages/torch/serialization.py\", line 230, in _open_file_like\n",
            "    return _open_file(name_or_buffer, mode)\n",
            "  File \"/usr/local/lib/python3.7/dist-packages/torch/serialization.py\", line 211, in __init__\n",
            "    super(_open_file, self).__init__(open(name, mode))\n",
            "FileNotFoundError: [Errno 2] No such file or directory: 'checkpoint/default/latest_G.pt'\n"
          ]
        }
      ]
    }
  ]
}